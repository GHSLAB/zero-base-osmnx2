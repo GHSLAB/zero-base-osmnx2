{
 "cells": [
  {
   "cell_type": "code",
   "execution_count": 2,
   "metadata": {},
   "outputs": [
    {
     "data": {
      "text/plain": [
       "'2.0.1'"
      ]
     },
     "execution_count": 2,
     "metadata": {},
     "output_type": "execute_result"
    }
   ],
   "source": [
    "import osmnx as ox\n",
    "\n",
    "ox.__version__"
   ]
  },
  {
   "cell_type": "code",
   "execution_count": 3,
   "metadata": {},
   "outputs": [],
   "source": [
    "# string {\"all\", \"all_public\", \"bike\", \"drive\", \"drive_service\", \"walk\"}\n",
    "network_type = \"all\"\n",
    "G = ox.graph_from_place(\n",
    "    \"quanzhou, Fujian, China\", network_type=network_type\n",
    ")  \n",
    "# GraphML 是 OSMnx 推荐的存储格式，因为它能够保存完整的网络拓扑及其属性。\n",
    "ox.save_graphml(G, filepath=f\"./data/qz_network_{network_type}.graphml\")\n",
    "\n",
    "# ox.save_graph_geopackage(G, filepath=f\"./data/quanzhou_network_{network_type}.gpkg\")"
   ]
  },
  {
   "cell_type": "code",
   "execution_count": 7,
   "metadata": {},
   "outputs": [],
   "source": [
    "from datetime import datetime\n",
    "\n",
    "date = datetime.now().strftime('%Y-%m-%d')\n",
    "\n",
    "ox.save_graphml(G, filepath=f\"./data/qz_network_{network_type}.graphml\")  # 原始保存路径\n",
    "ox.save_graphml(G, filepath=f\"./data/backup/qz_network_{network_type}_{date}.graphml\")  # 新增备份路径"
   ]
  },
  {
   "cell_type": "code",
   "execution_count": null,
   "metadata": {},
   "outputs": [],
   "source": []
  }
 ],
 "metadata": {
  "kernelspec": {
   "display_name": "geo",
   "language": "python",
   "name": "python3"
  },
  "language_info": {
   "codemirror_mode": {
    "name": "ipython",
    "version": 3
   },
   "file_extension": ".py",
   "mimetype": "text/x-python",
   "name": "python",
   "nbconvert_exporter": "python",
   "pygments_lexer": "ipython3",
   "version": "3.10.16"
  }
 },
 "nbformat": 4,
 "nbformat_minor": 2
}
